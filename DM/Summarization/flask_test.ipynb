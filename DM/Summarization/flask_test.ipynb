{
 "cells": [
  {
   "cell_type": "code",
   "execution_count": 1,
   "id": "93834f22",
   "metadata": {},
   "outputs": [
    {
     "data": {
      "text/html": [
       "<div>\n",
       "<style scoped>\n",
       "    .dataframe tbody tr th:only-of-type {\n",
       "        vertical-align: middle;\n",
       "    }\n",
       "\n",
       "    .dataframe tbody tr th {\n",
       "        vertical-align: top;\n",
       "    }\n",
       "\n",
       "    .dataframe thead th {\n",
       "        text-align: right;\n",
       "    }\n",
       "</style>\n",
       "<table border=\"1\" class=\"dataframe\">\n",
       "  <thead>\n",
       "    <tr style=\"text-align: right;\">\n",
       "      <th></th>\n",
       "      <th>title</th>\n",
       "      <th>content</th>\n",
       "      <th>date</th>\n",
       "      <th>time</th>\n",
       "      <th>url</th>\n",
       "      <th>index</th>\n",
       "    </tr>\n",
       "  </thead>\n",
       "  <tbody>\n",
       "    <tr>\n",
       "      <th>0</th>\n",
       "      <td>LPGA, 스웨덴 코크 생애 두번째 우승</td>\n",
       "      <td>스웨덴의 미녀 골프 선수 카린 코크가 생애 두번째우승컵을 품에 안았다.\\n\\n코크는...</td>\n",
       "      <td>2005.4.25</td>\n",
       "      <td>오전 7시 28분 0초</td>\n",
       "      <td>https://www.hani.co.kr/arti/sports/golf/29025....</td>\n",
       "      <td>27248</td>\n",
       "    </tr>\n",
       "    <tr>\n",
       "      <th>1</th>\n",
       "      <td>LPGA 별들 한국그린서 대격돌</td>\n",
       "      <td>19일 개막 엑스켄버스오픈 출전\\n\\n제니퍼 로살레스(필리핀), 로레나 오초아(멕시...</td>\n",
       "      <td>2005.5.18</td>\n",
       "      <td>오후 6시 16분 0초</td>\n",
       "      <td>https://www.hani.co.kr/arti/sports/golf/34933....</td>\n",
       "      <td>27247</td>\n",
       "    </tr>\n",
       "    <tr>\n",
       "      <th>2</th>\n",
       "      <td>고압선 근처 사는 아이들, 백혈병 위험</td>\n",
       "      <td>고압선 부근에 사는 아이들은 백혈병 위험이 높다는 연구결과가 나왔다.\\n\\n영국 옥...</td>\n",
       "      <td>2005.6.3</td>\n",
       "      <td>오후 4시 7분 0초</td>\n",
       "      <td>https://www.hani.co.kr/arti/society/health/393...</td>\n",
       "      <td>27246</td>\n",
       "    </tr>\n",
       "    <tr>\n",
       "      <th>3</th>\n",
       "      <td>위성미, 티타임에서도 ‘유명 프로’ 대우</td>\n",
       "      <td>10월 프로 전향설이 유력하게 나돌고 있는 가운데 위성미(15.미셸 위)가 처음 출...</td>\n",
       "      <td>2005.7.27</td>\n",
       "      <td>오전 10시 25분 56초</td>\n",
       "      <td>https://www.hani.co.kr/arti/sports/golf/53030....</td>\n",
       "      <td>27242</td>\n",
       "    </tr>\n",
       "    <tr>\n",
       "      <th>4</th>\n",
       "      <td>백두산 상공에 UFO 출현?</td>\n",
       "      <td>백두산 상공에 미확인비행물체(UFO)가 출현했다는 주장이 제기됐다.\\n\\n2일 동포...</td>\n",
       "      <td>2005.8.2</td>\n",
       "      <td>오후 1시 58분 30초</td>\n",
       "      <td>https://www.hani.co.kr/arti/society/society_ge...</td>\n",
       "      <td>27241</td>\n",
       "    </tr>\n",
       "  </tbody>\n",
       "</table>\n",
       "</div>"
      ],
      "text/plain": [
       "                    title                                            content  \\\n",
       "0  LPGA, 스웨덴 코크 생애 두번째 우승  스웨덴의 미녀 골프 선수 카린 코크가 생애 두번째우승컵을 품에 안았다.\\n\\n코크는...   \n",
       "1       LPGA 별들 한국그린서 대격돌  19일 개막 엑스켄버스오픈 출전\\n\\n제니퍼 로살레스(필리핀), 로레나 오초아(멕시...   \n",
       "2   고압선 근처 사는 아이들, 백혈병 위험  고압선 부근에 사는 아이들은 백혈병 위험이 높다는 연구결과가 나왔다.\\n\\n영국 옥...   \n",
       "3  위성미, 티타임에서도 ‘유명 프로’ 대우  10월 프로 전향설이 유력하게 나돌고 있는 가운데 위성미(15.미셸 위)가 처음 출...   \n",
       "4         백두산 상공에 UFO 출현?  백두산 상공에 미확인비행물체(UFO)가 출현했다는 주장이 제기됐다.\\n\\n2일 동포...   \n",
       "\n",
       "        date            time  \\\n",
       "0  2005.4.25    오전 7시 28분 0초   \n",
       "1  2005.5.18    오후 6시 16분 0초   \n",
       "2   2005.6.3     오후 4시 7분 0초   \n",
       "3  2005.7.27  오전 10시 25분 56초   \n",
       "4   2005.8.2   오후 1시 58분 30초   \n",
       "\n",
       "                                                 url  index  \n",
       "0  https://www.hani.co.kr/arti/sports/golf/29025....  27248  \n",
       "1  https://www.hani.co.kr/arti/sports/golf/34933....  27247  \n",
       "2  https://www.hani.co.kr/arti/society/health/393...  27246  \n",
       "3  https://www.hani.co.kr/arti/sports/golf/53030....  27242  \n",
       "4  https://www.hani.co.kr/arti/society/society_ge...  27241  "
      ]
     },
     "execution_count": 1,
     "metadata": {},
     "output_type": "execute_result"
    }
   ],
   "source": [
    "import pandas as pd\n",
    "\n",
    "df_covid = pd.read_csv(\"KorBertSum/test_content_b_1.csv\").drop('Unnamed: 0', axis=1)\n",
    "df_covid.head()"
   ]
  },
  {
   "cell_type": "code",
   "execution_count": 3,
   "id": "486aa795",
   "metadata": {},
   "outputs": [],
   "source": [
    "idxs = df_covid['index'].tolist()\n",
    "texts = df_covid['content'].tolist()\n",
    "titles = df_covid['title'].tolist()\n",
    "dates = df_covid['date'].tolist()\n",
    "urls = df_covid['url'].tolist()\n",
    "idx_text = list(zip(idxs, texts, titles, dates, urls))"
   ]
  },
  {
   "cell_type": "code",
   "execution_count": 4,
   "id": "0da461f6",
   "metadata": {},
   "outputs": [],
   "source": [
    "import requests\n",
    "import json\n",
    "from tqdm import tqdm"
   ]
  },
  {
   "cell_type": "code",
   "execution_count": 5,
   "id": "274a2f07",
   "metadata": {},
   "outputs": [
    {
     "name": "stderr",
     "output_type": "stream",
     "text": [
      "100%|██████████| 27134/27134 [00:00<00:00, 1068421.37it/s]\n"
     ]
    }
   ],
   "source": [
    "for i in tqdm(range(len(idx_text))):\n",
    "    idx_text[i] = list(idx_text[i])"
   ]
  },
  {
   "cell_type": "code",
   "execution_count": 6,
   "id": "407ae89a",
   "metadata": {},
   "outputs": [],
   "source": [
    "# for i in tqdm(range(len(text))):\n",
    "#     resp = requests.get(\"http://127.0.0.1:5000/predict?text=\" + text[i])\n",
    "# #     print(resp)\n",
    "#     print(json.loads(resp.content))"
   ]
  },
  {
   "cell_type": "code",
   "execution_count": 7,
   "id": "2491162f",
   "metadata": {},
   "outputs": [],
   "source": [
    "# !git clone https://github.com/hsh2438/mnist_serving_tf2.0_flask.git"
   ]
  },
  {
   "cell_type": "code",
   "execution_count": 8,
   "id": "7c8e9e3a",
   "metadata": {},
   "outputs": [],
   "source": [
    "# !pip install -r mnist_serving_tf2.0_flask/requirements.txt"
   ]
  },
  {
   "cell_type": "code",
   "execution_count": 9,
   "id": "3e4fffa7",
   "metadata": {},
   "outputs": [],
   "source": [
    "# !pip install gunicorn"
   ]
  },
  {
   "cell_type": "code",
   "execution_count": 10,
   "id": "663bd1ae",
   "metadata": {},
   "outputs": [],
   "source": [
    "# !pip install fake_useragent"
   ]
  },
  {
   "cell_type": "code",
   "execution_count": 6,
   "id": "2e291218",
   "metadata": {},
   "outputs": [],
   "source": [
    "# ConnectionError: ('Connection aborted.', RemoteDisconnected('Remote end closed connection without response'))\n",
    "\n",
    "def inference(texts):\n",
    "    \n",
    "    global df_covid\n",
    "    idx = texts[0]\n",
    "    text = texts[1]\n",
    "    title = texts[2]\n",
    "    date = texts[3]\n",
    "    url = texts[4]\n",
    "    df = df_covid[df_covid['index'] == idx]\n",
    "    index = df.index[0]\n",
    "    \n",
    "    if (text != \"\"):\n",
    "        headers = {'Content-Type':'application/json', \n",
    "                   'User-Agent' : \"Mozilla/5.0 (X11; Linux x86_64) AppleWebKit/537.36 (KHTML, like Gecko) Chrome/51.0.2704.103 Safari/537.36\"\n",
    "                   ,'Connection':'close'\n",
    "                  }\n",
    "        address = \"http://127.0.0.1:5000/predict\"\n",
    "        data = {'text' : text }\n",
    "        \n",
    "        try:\n",
    "            resp = requests.get(address, data=json.dumps(data), headers=headers)\n",
    "            \n",
    "            new_list.append(\n",
    "                {\n",
    "                    \"index\" : idx,\n",
    "                    \"title\" : title,\n",
    "                    \"content\" : text,\n",
    "                    \"date\" : date,\n",
    "                    \"url\" : url,\n",
    "                    \"summary\" : str(resp.content, encoding='utf-8')\n",
    "                }\n",
    "            )\n",
    "            resp.close()\n",
    "        except requests.exceptions.Timeout as errd:\n",
    "            print(\"Timeout Error : \", errd)\n",
    "\n",
    "        except requests.exceptions.ConnectionError as errc:\n",
    "            print(\"Error Connecting : \", errc)\n",
    "\n",
    "        except requests.exceptions.HTTPError as errb:\n",
    "            print(\"Http Error : \", errb)\n",
    "\n",
    "        # Any Error except upper exception\n",
    "        except requests.exceptions.RequestException as erra:\n",
    "            print(\"AnyException : \", erra)\n",
    "            \n",
    "#         print(str(resp.content, encoding='utf-8'))\n",
    "    else:\n",
    "        new_list.append(\n",
    "            {\n",
    "                \"index\" : idx,\n",
    "                \"title\" : title,\n",
    "                \"content\" : text,\n",
    "                \"date\" : date,\n",
    "                \"url\" : url,\n",
    "                \"summary\" : \"\"\n",
    "            }\n",
    "        )\n",
    "    df_covid = df_covid.drop(index, axis=0)\n",
    "    return ''"
   ]
  },
  {
   "cell_type": "code",
   "execution_count": 7,
   "id": "60e993b9",
   "metadata": {},
   "outputs": [],
   "source": [
    "from multiprocessing.dummy import Pool as ThreadPool\n",
    "\n",
    "pool = ThreadPool(10)"
   ]
  },
  {
   "cell_type": "code",
   "execution_count": null,
   "id": "f9cfb15b",
   "metadata": {},
   "outputs": [],
   "source": [
    "new_list = []\n",
    "\n",
    "# for _ in tqdm(pool.imap_unordered(inference, idx_text), total=len(idx_text)):\n",
    "#     pass\n",
    "    \n",
    "# print(\"finish\")\n",
    "# ConnectionError\n",
    "\n",
    "try:\n",
    "    for _ in tqdm(pool.imap_unordered(inference, idx_text), total=len(idx_text)):\n",
    "        pass\n",
    "    \n",
    "    print(\"finish\")\n",
    "    \n",
    "except ConnectionError:\n",
    "    pool.close()\n",
    "    pool.terminate()\n",
    "    pool.join()\n",
    "    \n",
    "#     df_covid.to_csv(\"../코로나_content_b_9.csv\")\n",
    "    \n",
    "#     col_name = [\"index\", \"title\", \"content\", \"date\", \"url\", \"summary\"]\n",
    "#     news_df = pd.DataFrame(new_list, columns=col_name)\n",
    "\n",
    "#     csv_file_name = \"../한겨레_covid_summary_b_9.csv\" # 이름 바꿔줘야함\n",
    "\n",
    "#     news_df.to_csv(csv_file_name)\n",
    "#     news_df.head()"
   ]
  },
  {
   "cell_type": "code",
   "execution_count": null,
   "id": "97d2bf3f",
   "metadata": {},
   "outputs": [],
   "source": [
    "# pool.close()\n",
    "# pool.terminate()\n",
    "# pool.join()\n",
    "    \n",
    "df_covid.to_csv(\"test.csv\")\n",
    "\n",
    "col_name = [\"index\", \"title\", \"content\", \"date\", \"url\", \"summary\"]\n",
    "news_df = pd.DataFrame(new_list, columns=col_name)\n",
    "\n",
    "csv_file_name = \"test_2.csv\" # 이름 바꿔줘야함\n",
    "\n",
    "news_df.to_csv(csv_file_name)\n",
    "news_df.head()"
   ]
  }
 ],
 "metadata": {
  "kernelspec": {
   "display_name": "Python 3 (Notebook)",
   "language": "python",
   "name": "python3"
  },
  "language_info": {
   "codemirror_mode": {
    "name": "ipython",
    "version": 3
   },
   "file_extension": ".py",
   "mimetype": "text/x-python",
   "name": "python",
   "nbconvert_exporter": "python",
   "pygments_lexer": "ipython3",
   "version": "3.8.12"
  }
 },
 "nbformat": 4,
 "nbformat_minor": 5
}
