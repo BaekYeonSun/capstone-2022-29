{
 "cells": [
  {
   "cell_type": "code",
   "execution_count": 2,
   "metadata": {},
   "outputs": [],
   "source": [
    "from newspaper import Article\n",
    "import os\n",
    "import pandas as pd\n",
    "from tqdm import tqdm\n",
    "from multiprocessing.dummy import Pool as ThreadPool"
   ]
  },
  {
   "cell_type": "code",
   "execution_count": 3,
   "metadata": {},
   "outputs": [],
   "source": [
    "df = pd.read_excel(\"조선일보_국민대_url.xlsx\")\n",
    "df.head()\n",
    "urls = df[\"url\"].tolist()\n",
    "news_list = []"
   ]
  },
  {
   "cell_type": "code",
   "execution_count": 4,
   "metadata": {},
   "outputs": [
    {
     "name": "stdout",
     "output_type": "stream",
     "text": [
      "1133\n"
     ]
    }
   ],
   "source": [
    "print(len(urls))"
   ]
  },
  {
   "cell_type": "code",
   "execution_count": 5,
   "metadata": {},
   "outputs": [],
   "source": [
    "def getText(url):\n",
    "    article = Article(url)\n",
    "    article.download()\n",
    "    try:\n",
    "        article.parse()\n",
    "        news_list.append(\n",
    "            {\n",
    "                \"title\": article.title,\n",
    "                \"content\": article.text,\n",
    "                \"date\": article.publish_date,\n",
    "                \"time\": article.publish_date,\n",
    "                \"url\": url,\n",
    "            }\n",
    "        )\n",
    "        return \"\"\n",
    "    except:\n",
    "        return \"\"\n",
    "    \n",
    "pool = ThreadPool(10)"
   ]
  },
  {
   "cell_type": "code",
   "execution_count": 6,
   "metadata": {},
   "outputs": [
    {
     "name": "stderr",
     "output_type": "stream",
     "text": [
      "100%|██████████| 1133/1133 [00:26<00:00, 42.75it/s]\n"
     ]
    }
   ],
   "source": [
    "# open the urls in their own threads\n",
    "# and return the results\n",
    "for _ in tqdm(pool.imap_unordered(getText, urls), total=len(urls)):\n",
    "    pass\n",
    "\n",
    "# close the pool and wait for the work to finish\n",
    "pool.close()\n",
    "pool.join()"
   ]
  },
  {
   "cell_type": "code",
   "execution_count": 7,
   "metadata": {},
   "outputs": [
    {
     "name": "stdout",
     "output_type": "stream",
     "text": [
      "엑셀 저장 완료 | 경로 : /Users/nayoung/Documents/Python_ws\\조선일보_국민대_content.csv\n",
      "\n"
     ]
    },
    {
     "data": {
      "text/html": [
       "<div>\n",
       "<style scoped>\n",
       "    .dataframe tbody tr th:only-of-type {\n",
       "        vertical-align: middle;\n",
       "    }\n",
       "\n",
       "    .dataframe tbody tr th {\n",
       "        vertical-align: top;\n",
       "    }\n",
       "\n",
       "    .dataframe thead th {\n",
       "        text-align: right;\n",
       "    }\n",
       "</style>\n",
       "<table border=\"1\" class=\"dataframe\">\n",
       "  <thead>\n",
       "    <tr style=\"text-align: right;\">\n",
       "      <th></th>\n",
       "      <th>title</th>\n",
       "      <th>content</th>\n",
       "      <th>date</th>\n",
       "      <th>time</th>\n",
       "      <th>url</th>\n",
       "    </tr>\n",
       "  </thead>\n",
       "  <tbody>\n",
       "    <tr>\n",
       "      <th>0</th>\n",
       "      <td>“국민대학교, 학생중심 메타버스 생태계 구축”</td>\n",
       "      <td>국민대학교(총장 임홍재)가 2022학년도 신학기부터 학생 중심의 메타버스 생태계 구...</td>\n",
       "      <td>&lt;built-in method date of Timestamp object at 0...</td>\n",
       "      <td>&lt;built-in method time of Timestamp object at 0...</td>\n",
       "      <td>http://news.chosun.com/pan/site/data/html_dir/...</td>\n",
       "    </tr>\n",
       "    <tr>\n",
       "      <th>1</th>\n",
       "      <td>신홍균 국민대 교수, 한국항공우주정책법학회장 선출</td>\n",
       "      <td></td>\n",
       "      <td>&lt;built-in method date of Timestamp object at 0...</td>\n",
       "      <td>&lt;built-in method time of Timestamp object at 0...</td>\n",
       "      <td>http://edu.chosun.com/site/data/html_dir/2022/...</td>\n",
       "    </tr>\n",
       "    <tr>\n",
       "      <th>2</th>\n",
       "      <td>국민대, 탈북대학생 지원 사업 ‘디딤돌대학 위탁사업’ 선정</td>\n",
       "      <td></td>\n",
       "      <td>&lt;built-in method date of Timestamp object at 0...</td>\n",
       "      <td>&lt;built-in method time of Timestamp object at 0...</td>\n",
       "      <td>http://edu.chosun.com/site/data/html_dir/2022/...</td>\n",
       "    </tr>\n",
       "    <tr>\n",
       "      <th>3</th>\n",
       "      <td>국민대, 아산나눔재단 '아산 기업가정신 리뷰' 연구기관으로 선정</td>\n",
       "      <td></td>\n",
       "      <td>&lt;built-in method date of Timestamp object at 0...</td>\n",
       "      <td>&lt;built-in method time of Timestamp object at 0...</td>\n",
       "      <td>http://edu.chosun.com/site/data/html_dir/2022/...</td>\n",
       "    </tr>\n",
       "    <tr>\n",
       "      <th>4</th>\n",
       "      <td>국민대, 아산나눔재단 '아산 기업가정신 리뷰' 연구기관으로 선정</td>\n",
       "      <td>국민대학교(총장 임홍재) 기업가정신 지식연구센터가 아산나눔재단의 '아산 기업가정신 ...</td>\n",
       "      <td>&lt;built-in method date of Timestamp object at 0...</td>\n",
       "      <td>&lt;built-in method time of Timestamp object at 0...</td>\n",
       "      <td>http://news.chosun.com/pan/site/data/html_dir/...</td>\n",
       "    </tr>\n",
       "  </tbody>\n",
       "</table>\n",
       "</div>"
      ],
      "text/plain": [
       "                                 title  \\\n",
       "0            “국민대학교, 학생중심 메타버스 생태계 구축”   \n",
       "1          신홍균 국민대 교수, 한국항공우주정책법학회장 선출   \n",
       "2     국민대, 탈북대학생 지원 사업 ‘디딤돌대학 위탁사업’ 선정   \n",
       "3  국민대, 아산나눔재단 '아산 기업가정신 리뷰' 연구기관으로 선정   \n",
       "4  국민대, 아산나눔재단 '아산 기업가정신 리뷰' 연구기관으로 선정   \n",
       "\n",
       "                                             content  \\\n",
       "0  국민대학교(총장 임홍재)가 2022학년도 신학기부터 학생 중심의 메타버스 생태계 구...   \n",
       "1                                                      \n",
       "2                                                      \n",
       "3                                                      \n",
       "4  국민대학교(총장 임홍재) 기업가정신 지식연구센터가 아산나눔재단의 '아산 기업가정신 ...   \n",
       "\n",
       "                                                date  \\\n",
       "0  <built-in method date of Timestamp object at 0...   \n",
       "1  <built-in method date of Timestamp object at 0...   \n",
       "2  <built-in method date of Timestamp object at 0...   \n",
       "3  <built-in method date of Timestamp object at 0...   \n",
       "4  <built-in method date of Timestamp object at 0...   \n",
       "\n",
       "                                                time  \\\n",
       "0  <built-in method time of Timestamp object at 0...   \n",
       "1  <built-in method time of Timestamp object at 0...   \n",
       "2  <built-in method time of Timestamp object at 0...   \n",
       "3  <built-in method time of Timestamp object at 0...   \n",
       "4  <built-in method time of Timestamp object at 0...   \n",
       "\n",
       "                                                 url  \n",
       "0  http://news.chosun.com/pan/site/data/html_dir/...  \n",
       "1  http://edu.chosun.com/site/data/html_dir/2022/...  \n",
       "2  http://edu.chosun.com/site/data/html_dir/2022/...  \n",
       "3  http://edu.chosun.com/site/data/html_dir/2022/...  \n",
       "4  http://news.chosun.com/pan/site/data/html_dir/...  "
      ]
     },
     "execution_count": 7,
     "metadata": {},
     "output_type": "execute_result"
    }
   ],
   "source": [
    "col_name = [\"title\", \"content\", \"date\", \"time\", \"url\"]\n",
    "news_df = pd.DataFrame(news_list, columns=col_name)\n",
    "news_df[\"date\"] = news_df[\"date\"].apply(lambda a: pd.to_datetime(a).date)\n",
    "news_df[\"time\"] = news_df[\"time\"].apply(lambda a: pd.to_datetime(a).time)\n",
    "\n",
    "folder_path = os.getcwd()\n",
    "# xlsx_file_name = \"한겨레_코로나_content_plus.xlsx\"\n",
    "csv_file_name = \"조선일보_국민대_content.csv\"\n",
    "\n",
    "# news_df.to_excel(xlsx_file_name)\n",
    "news_df.to_csv(csv_file_name)\n",
    "\n",
    "# print(\"엑셀 저장 완료 | 경로 : {}\\\\{}\\n\".format(folder_path, xlsx_file_name))\n",
    "print(\"엑셀 저장 완료 | 경로 : {}\\\\{}\\n\".format(folder_path, csv_file_name))\n",
    "news_df.head()"
   ]
  }
 ],
 "metadata": {
  "interpreter": {
   "hash": "b0fa6594d8f4cbf19f97940f81e996739fb7646882a419484c72d19e05852a7e"
  },
  "kernelspec": {
   "display_name": "Python 3.9.7 64-bit",
   "language": "python",
   "name": "python3"
  },
  "language_info": {
   "codemirror_mode": {
    "name": "ipython",
    "version": 3
   },
   "file_extension": ".py",
   "mimetype": "text/x-python",
   "name": "python",
   "nbconvert_exporter": "python",
   "pygments_lexer": "ipython3",
   "version": "3.8.8"
  },
  "orig_nbformat": 4
 },
 "nbformat": 4,
 "nbformat_minor": 2
}
