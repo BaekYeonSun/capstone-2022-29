{
 "cells": [
  {
   "cell_type": "markdown",
   "metadata": {},
   "source": [
    "## 한국경제 뉴스 제목, 작성날짜, url 가져오기"
   ]
  },
  {
   "cell_type": "markdown",
   "metadata": {},
   "source": [
    "### selenium"
   ]
  },
  {
   "cell_type": "code",
   "execution_count": null,
   "metadata": {},
   "outputs": [],
   "source": [
    "import sys, os\n",
    "from selenium import webdriver\n",
    "from selenium.webdriver.common.by import By\n",
    "from pandas import DataFrame\n",
    "from bs4 import BeautifulSoup\n",
    "from datetime import datetime\n",
    "from tqdm import tqdm"
   ]
  },
  {
   "cell_type": "code",
   "execution_count": null,
   "metadata": {},
   "outputs": [],
   "source": [
    "date = str(datetime.now())\n",
    "date = date[:date.rfind(':')].replace(' ', '_')\n",
    "date = date.replace(':','시') + '분'\n",
    "\n",
    "sleep_sec = 0.5"
   ]
  },
  {
   "cell_type": "code",
   "execution_count": null,
   "metadata": {},
   "outputs": [],
   "source": [
    "options = webdriver.ChromeOptions()\n",
    "browser = webdriver.Chrome(executable_path=\"/opt/homebrew/bin/chromedriver\", options=options)\n",
    "browser.execute_script('return navigator.userAgent')"
   ]
  },
  {
   "cell_type": "code",
   "execution_count": null,
   "metadata": {},
   "outputs": [],
   "source": [
    "query = input('검색할 키워드  : ')\n",
    "\n",
    "options = webdriver.ChromeOptions()\n",
    "options.add_argument(\"user-agent=Mozilla/5.0 (Macintosh; Intel Mac OS X 10_15_7) AppleWebKit/537.36 (KHTML, like Gecko) Chrome/99.0.4844.84 Safari/537.36\")\n",
    "options.add_argument(\"--blink-settings=imagesEnabled=false\")\n",
    "\n",
    "browser = webdriver.Chrome(executable_path=\"/opt/homebrew/bin/chromedriver\", options=options)\n",
    "\n",
    "browser.get('https://search.hankyung.com/apps.frm/search.news?query={}&mediaid_clust=HKPAPER,HKCOM&page=1'.format(query))\n",
    "browser.implicitly_wait(sleep_sec)\n",
    "\n",
    "news_info = browser.find_element(by=By.XPATH, value='//*[@id=\"content\"]/div[1]/div[2]/div[1]/h3/span[2]').text.split('/')\n",
    "news_num = news_info[1].replace(\" \", \"\").replace(\",\", \"\").replace(\"건\", \"\")\n",
    "print(int(news_num))\n",
    "\n",
    "browser.close()"
   ]
  },
  {
   "cell_type": "code",
   "execution_count": null,
   "metadata": {},
   "outputs": [],
   "source": [
    "news_dict = {}\n",
    "idx = 0\n",
    "\n",
    "options = webdriver.ChromeOptions()\n",
    "options.add_argument(\"user-agent=Mozilla/5.0 (Macintosh; Intel Mac OS X 10_15_7) AppleWebKit/537.36 (KHTML, like Gecko) Chrome/99.0.4844.84 Safari/537.36\")\n",
    "options.add_argument(\"--blink-settings=imagesEnabled=false\")\n",
    "\n",
    "browser = webdriver.Chrome(executable_path=\"/opt/homebrew/bin/chromedriver\")\n",
    "\n",
    "for i in tqdm(range(1, int(news_num)//10 + 1)): # 페이지 수\n",
    "    browser.get('https://search.hankyung.com/apps.frm/search.news?query={}&mediaid_clust=HKPAPER,HKCOM&page={}'.format(query, i))\n",
    "    browser.implicitly_wait(sleep_sec)\n",
    "\n",
    "    table = browser.find_element(by=By.XPATH, value='//ul[@class=\"article\"]')\n",
    "    li_list = table.find_elements(by=By.XPATH, value='./li')\n",
    "\n",
    "    for li in li_list:\n",
    "        news_url = li.find_element(by=By.XPATH, value='./div[@class=\"txt_wrap\"]/a').get_attribute('href')\n",
    "        news_title = li.find_element(by=By.XPATH, value='./div[@class=\"txt_wrap\"]/a/em[@class=\"tit\"]').text\n",
    "        news_date = li.find_element(by=By.XPATH, value='./div[@class=\"txt_wrap\"]/p[@class=\"info\"]/span[@class=\"date_time\"]').text\n",
    "        \n",
    "        news_dict[idx] = {'date' : news_date,\n",
    "                        'title' : news_title,\n",
    "                        'url' : news_url,\n",
    "                        }\n",
    "        idx += 1\n",
    "        \n",
    "browser.close()"
   ]
  },
  {
   "cell_type": "code",
   "execution_count": null,
   "metadata": {},
   "outputs": [],
   "source": [
    "news_df = DataFrame(news_dict).T\n",
    "\n",
    "folder_path = os.getcwd()\n",
    "cvs_file_name = '한국경제_{}_{}개_{}.csv'.format(query, news_num, date)\n",
    "\n",
    "news_df.to_csv(cvs_file_name)\n",
    "\n",
    "print('데이터 저장 완료 | 경로 : {}\\\\{}\\n'.format(folder_path, cvs_file_name))\n",
    "\n",
    "news_df.head()"
   ]
  },
  {
   "cell_type": "markdown",
   "metadata": {},
   "source": [
    "## 한국경제 뉴스 내용 가져오기"
   ]
  },
  {
   "cell_type": "markdown",
   "metadata": {},
   "source": [
    "### newspaper multiprocessing"
   ]
  },
  {
   "cell_type": "code",
   "execution_count": null,
   "metadata": {},
   "outputs": [],
   "source": [
    "from newspaper import Article\n",
    "import os\n",
    "import pandas as pd\n",
    "from tqdm import tqdm\n",
    "from multiprocessing.dummy import Pool as ThreadPool"
   ]
  },
  {
   "cell_type": "code",
   "execution_count": null,
   "metadata": {},
   "outputs": [],
   "source": [
    "df = pd.read_excel(\"/Users/yeonsun/Documents/capstone-2022-29/crawling/한국경제_코로나_93542개_2022-03-28_03시46분.csv\")\n",
    "\n",
    "urls = df[\"url\"].tolist()\n",
    "news_list = list()"
   ]
  },
  {
   "cell_type": "code",
   "execution_count": null,
   "metadata": {},
   "outputs": [],
   "source": [
    "def getText(url):\n",
    "    article = Article(url)\n",
    "    article.download()\n",
    "    try:\n",
    "        article.parse()\n",
    "        news_list.append(\n",
    "            {\n",
    "                \"title\": article.title,\n",
    "                \"content\": article.text,\n",
    "                \"date\": article.publish_date,\n",
    "                \"time\": article.publish_date,\n",
    "                \"url\": url,\n",
    "            }\n",
    "        )\n",
    "        return \"\"\n",
    "    except:\n",
    "        news_list.append(\n",
    "            {\n",
    "                \"title\": article.title,\n",
    "                \"content\": \"\",\n",
    "                \"date\": article.publish_date,\n",
    "                \"time\": article.publish_date,\n",
    "                \"url\": url,\n",
    "            }\n",
    "        )\n",
    "        return \"\"\n",
    "    \n",
    "pool = ThreadPool(10)\n"
   ]
  },
  {
   "cell_type": "code",
   "execution_count": null,
   "metadata": {},
   "outputs": [],
   "source": [
    "# open the urls in their own threads\n",
    "# and return the results\n",
    "for _ in tqdm(pool.imap_unordered(getText, urls), total=len(urls)):\n",
    "    pass\n",
    "\n",
    "# close the pool and wait for the work to finish\n",
    "pool.close()\n",
    "pool.join()"
   ]
  },
  {
   "cell_type": "code",
   "execution_count": null,
   "metadata": {},
   "outputs": [],
   "source": [
    "col_name = [\"title\", \"content\", \"date\", \"time\", \"url\"]\n",
    "news_df = pd.DataFrame(news_list, columns=col_name)\n",
    "\n",
    "folder_path = os.getcwd()\n",
    "cvs_file_name = '한국경제_{}_{}개_{}.csv'.format(query, news_num, date)\n",
    "\n",
    "news_df.to_csv(cvs_file_name)\n",
    "\n",
    "print('데이터 저장 완료 | 경로 : {}\\\\{}\\n'.format(folder_path, cvs_file_name))\n",
    "\n",
    "news_df.head()"
   ]
  },
  {
   "cell_type": "markdown",
   "metadata": {},
   "source": [
    "### newspaper"
   ]
  },
  {
   "cell_type": "code",
   "execution_count": null,
   "metadata": {},
   "outputs": [],
   "source": [
    "from newspaper import Article\n",
    "import os\n",
    "import pandas as pd\n",
    "from tqdm import tqdm"
   ]
  },
  {
   "cell_type": "code",
   "execution_count": null,
   "metadata": {},
   "outputs": [],
   "source": [
    "news_df = pd.read_excel(\"/Users/yeonsun/Documents/capstone-2022-29/crawling/한국경제_코로나_93542개_2022-03-28_03시46분.csv\")\n",
    "news_df['content'] = ''\n",
    "\n",
    "contents = []"
   ]
  },
  {
   "cell_type": "code",
   "execution_count": null,
   "metadata": {},
   "outputs": [],
   "source": [
    "def getText(url):\n",
    "    article = Article(url)\n",
    "    article.download()\n",
    "    try:\n",
    "        article.parse()\n",
    "        contents.append(article.text)\n",
    "        return \"\"\n",
    "    except:\n",
    "        contents.append(\"\")\n",
    "        return \"\""
   ]
  },
  {
   "cell_type": "code",
   "execution_count": null,
   "metadata": {},
   "outputs": [],
   "source": [
    "for i in tqdm(range(0, news_df.shape[0])):\n",
    "    getText(news_df['url'][i])"
   ]
  },
  {
   "cell_type": "code",
   "execution_count": null,
   "metadata": {},
   "outputs": [],
   "source": [
    "idx = 0\n",
    "for i in range(0, news_df.shape[0]):\n",
    "    news_df['content'][i] = contents[idx]\n",
    "    idx += 1"
   ]
  },
  {
   "cell_type": "code",
   "execution_count": null,
   "metadata": {},
   "outputs": [],
   "source": [
    "folder_path = os.getcwd()\n",
    "cvs_file_name = '한국경제_{}_{}개_{}.csv'.format(query, news_num, date)\n",
    "\n",
    "news_df.to_csv(cvs_file_name)\n",
    "\n",
    "print('데이터 저장 완료 | 경로 : {}\\\\{}\\n'.format(folder_path, cvs_file_name))\n",
    "\n",
    "news_df.head()"
   ]
  }
 ],
 "metadata": {
  "interpreter": {
   "hash": "b0fa6594d8f4cbf19f97940f81e996739fb7646882a419484c72d19e05852a7e"
  },
  "kernelspec": {
   "display_name": "Python 3.9.10 64-bit",
   "language": "python",
   "name": "python3"
  },
  "language_info": {
   "codemirror_mode": {
    "name": "ipython",
    "version": 3
   },
   "file_extension": ".py",
   "mimetype": "text/x-python",
   "name": "python",
   "nbconvert_exporter": "python",
   "pygments_lexer": "ipython3",
   "version": "3.9.10"
  },
  "orig_nbformat": 4
 },
 "nbformat": 4,
 "nbformat_minor": 2
}
