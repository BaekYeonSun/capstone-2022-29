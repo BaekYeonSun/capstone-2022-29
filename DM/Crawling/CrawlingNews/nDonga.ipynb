{
 "cells": [
  {
   "cell_type": "markdown",
   "metadata": {},
   "source": [
    "## crawling"
   ]
  },
  {
   "cell_type": "code",
   "execution_count": null,
   "metadata": {},
   "outputs": [],
   "source": [
    "import sys, os\n",
    "from selenium import webdriver\n",
    "from selenium.webdriver.common.by import By\n",
    "from selenium.common.exceptions import NoSuchElementException\n",
    "from pandas import DataFrame\n",
    "from bs4 import BeautifulSoup\n",
    "from datetime import datetime\n",
    "from tqdm import tqdm"
   ]
  },
  {
   "cell_type": "code",
   "execution_count": null,
   "metadata": {},
   "outputs": [],
   "source": [
    "date = str(datetime.now())\n",
    "date = date[:date.rfind(':')].replace(' ', '_')\n",
    "date = date.replace(':','시') + '분'\n",
    "\n",
    "sleep_sec = 0.5"
   ]
  },
  {
   "cell_type": "code",
   "execution_count": null,
   "metadata": {},
   "outputs": [],
   "source": [
    "options = webdriver.ChromeOptions()\n",
    "browser = webdriver.Chrome(executable_path=\"/opt/homebrew/bin/chromedriver\", options=options)\n",
    "browser.execute_script('return navigator.userAgent')\n",
    "browser.close()"
   ]
  },
  {
   "cell_type": "code",
   "execution_count": null,
   "metadata": {},
   "outputs": [],
   "source": [
    "news_dict = {}\n",
    "idx = 0\n",
    "page = 1\n",
    "isBreak = False\n",
    "\n",
    "options = webdriver.ChromeOptions()\n",
    "options.add_argument(\"user-agent=Mozilla/5.0 (Macintosh; Intel Mac OS X 10_15_7) AppleWebKit/537.36 (KHTML, like Gecko) Chrome/99.0.4844.84 Safari/537.36\")\n",
    "options.add_argument(\"--blink-settings=imagesEnabled=false\")\n",
    "\n",
    "browser = webdriver.Chrome(executable_path=\"/opt/homebrew/bin/chromedriver\")\n",
    "\n",
    "# journal, date, title, url, content\n",
    "while(1):\n",
    "    browser.get('https://www.donga.com/news/List?p={}&prod=news&ymd=&m=NP'.format(page))\n",
    "    browser.implicitly_wait(sleep_sec)\n",
    "\n",
    "    for i in tqdm(range(2, 22)):\n",
    "        try:\n",
    "            news_date = browser.find_element(by=By.XPATH, value='//*[@id=\"content\"]/div[{}]/div[@class=\"rightList\"]/a/span[@class=\"date\"]'.format(i)).text\n",
    "            news_title = browser.find_element(by=By.XPATH, value='//*[@id=\"content\"]/div[{}]/div[@class=\"rightList\"]/a/span[@class=\"tit\"]'.format(i)).text\n",
    "            news_url = browser.find_element(by=By.XPATH, value='//*[@id=\"content\"]/div[{}]/div[@class=\"rightList\"]/a'.format(i)).get_attribute('href')\n",
    "\n",
    "            try:\n",
    "                date = datetime.fromisoformat(news_date)\n",
    "                if(date.year == 2011):\n",
    "                    isBreak = True\n",
    "                    break\n",
    "\n",
    "                news_dict[idx] = {\n",
    "                                'journal': \"동아일보\",\n",
    "                                'date' : date.strftime(\"%Y-%m-%d\"),\n",
    "                                'title' : news_title,\n",
    "                                'url' : news_url,\n",
    "                                }\n",
    "            except:\n",
    "                news_dict[idx] = {\n",
    "                                'journal': \"동아일보\",\n",
    "                                'date' : \"\",\n",
    "                                'title' : news_title,\n",
    "                                'url' : news_url,\n",
    "                                }\n",
    "            idx += 1\n",
    "        except NoSuchElementException as e:\n",
    "            print(e)\n",
    "            break\n",
    "\n",
    "    if isBreak:\n",
    "        break\n",
    "\n",
    "    page += 20\n",
    "\n",
    "\n",
    "browser.close()"
   ]
  },
  {
   "cell_type": "code",
   "execution_count": null,
   "metadata": {},
   "outputs": [],
   "source": [
    "news_df = DataFrame(news_dict).T\n",
    "\n",
    "folder_path = os.getcwd()\n",
    "xlsx_file_name = '동아일보_2022-04-15_2012-01-01_{}_4.xlsx'.format(date)\n",
    "\n",
    "news_df.to_excel(xlsx_file_name)\n",
    "\n",
    "print('엑셀 저장 완료 | 경로 : {}\\\\{}\\n'.format(folder_path, xlsx_file_name))\n",
    "\n",
    "news_df.head()"
   ]
  },
  {
   "cell_type": "markdown",
   "metadata": {},
   "source": [
    "## newspaper 이용해서 기사 본문 가져오기"
   ]
  },
  {
   "cell_type": "code",
   "execution_count": null,
   "metadata": {},
   "outputs": [],
   "source": [
    "from newspaper import Article\n",
    "import os\n",
    "import pandas as pd\n",
    "from tqdm import tqdm\n",
    "from multiprocessing.dummy import Pool as ThreadPool"
   ]
  },
  {
   "cell_type": "code",
   "execution_count": null,
   "metadata": {},
   "outputs": [],
   "source": [
    "df = pd.read_excel(\"/Users/yeonsun/Documents/Crawling/동아일보_2022-04-15_2012-01-01_2015-10-12 03:00:00.xlsx\")\n",
    "df.head()"
   ]
  },
  {
   "cell_type": "code",
   "execution_count": null,
   "metadata": {},
   "outputs": [],
   "source": [
    "urls = df[\"url\"].tolist()\n",
    "news_list = list()"
   ]
  },
  {
   "cell_type": "code",
   "execution_count": null,
   "metadata": {},
   "outputs": [],
   "source": [
    "def getText(url):\n",
    "    article = Article(url)\n",
    "    article.download()\n",
    "    try:\n",
    "        article.parse()\n",
    "        news_list.append(\n",
    "            {\n",
    "                \"journal\": \"동아일보\",\n",
    "                \"date\": article.publish_date.strftime(\"%Y-%m-%d\"),\n",
    "                \"title\": article.title,\n",
    "                \"url\": url,\n",
    "                \"content\": article.text,\n",
    "            }\n",
    "        )\n",
    "        return \"\"\n",
    "    except:\n",
    "        news_list.append(\n",
    "            {\n",
    "                \"journal\": \"동아일보\",\n",
    "                \"date\": \"\",\n",
    "                \"title\": article.title,\n",
    "                \"url\": url,\n",
    "                \"content\": \"\",\n",
    "            }\n",
    "        )\n",
    "        return \"\"\n",
    "    \n",
    "pool = ThreadPool(10)\n"
   ]
  },
  {
   "cell_type": "code",
   "execution_count": null,
   "metadata": {},
   "outputs": [],
   "source": [
    "# open the urls in their own threads\n",
    "# and return the results\n",
    "for _ in tqdm(pool.imap_unordered(getText, urls), total=len(urls)):\n",
    "    pass\n",
    "\n",
    "# close the pool and wait for the work to finish\n",
    "pool.close()\n",
    "pool.join()"
   ]
  },
  {
   "cell_type": "code",
   "execution_count": null,
   "metadata": {},
   "outputs": [],
   "source": [
    "col_name = [\"journal\",  \"date\", \"title\", \"url\", \"content\"]\n",
    "news_df = pd.DataFrame(news_list, columns=col_name)\n",
    "\n",
    "folder_path = os.getcwd()\n",
    "csv_file_name = '동아일보_2022-04-15_2012-01-01_전체.csv'\n",
    "\n",
    "news_df.to_csv(csv_file_name)\n",
    "\n",
    "print(\"csv 저장 완료 | 경로 : {}\\\\{}\\n\".format(folder_path, csv_file_name))\n",
    "news_df.head()"
   ]
  },
  {
   "cell_type": "markdown",
   "metadata": {},
   "source": [
    "## connect to mongo and store the data in the mongo library"
   ]
  },
  {
   "cell_type": "code",
   "execution_count": null,
   "metadata": {},
   "outputs": [],
   "source": [
    "from pymongo import MongoClient"
   ]
  },
  {
   "cell_type": "markdown",
   "metadata": {},
   "source": [
    "#### local"
   ]
  },
  {
   "cell_type": "code",
   "execution_count": null,
   "metadata": {},
   "outputs": [],
   "source": [
    "client = MongoClient(host='127.0.0.1', port=27017, username='BaekYeonsun', password='<password>')\n",
    "db = client.database\n",
    "collection = db.news\n",
    "collection.insert_many(news_list)\n",
    "print(\"push News Data in news DB\")"
   ]
  },
  {
   "cell_type": "markdown",
   "metadata": {},
   "source": [
    "#### cluster"
   ]
  },
  {
   "cell_type": "code",
   "execution_count": null,
   "metadata": {},
   "outputs": [],
   "source": [
    "df = pd.read_excel(\"/Users/yeonsun/Documents/Crawling/동아일보_2022-04-15_2012-01-01_전체.xlsx\")\n",
    "df.head()"
   ]
  },
  {
   "cell_type": "code",
   "execution_count": null,
   "metadata": {},
   "outputs": [],
   "source": [
    "news_dict = df.to_dict('records')"
   ]
  },
  {
   "cell_type": "code",
   "execution_count": null,
   "metadata": {},
   "outputs": [],
   "source": [
    "client = MongoClient(\"mongodb+srv://BaekYeonsun:<password>@cluster.3dypr.mongodb.net/database?retryWrites=true&w=majority\")\n",
    "# for name in client.list_database_names():\n",
    "#     print(name)\n",
    "collection = client.database.news\n",
    "try:\n",
    "    collection.insert_many(news_dict)\n",
    "except:\n",
    "    pass\n",
    "# for i in tqdm(range(0, len(news_dict))):\n",
    "#     try:\n",
    "#         collection.insert_one(news_dict[i])\n",
    "#     except:\n",
    "#         pass"
   ]
  },
  {
   "cell_type": "code",
   "execution_count": null,
   "metadata": {},
   "outputs": [],
   "source": []
  }
 ],
 "metadata": {
  "interpreter": {
   "hash": "b0fa6594d8f4cbf19f97940f81e996739fb7646882a419484c72d19e05852a7e"
  },
  "kernelspec": {
   "display_name": "Python 3.9.10 64-bit",
   "language": "python",
   "name": "python3"
  },
  "language_info": {
   "codemirror_mode": {
    "name": "ipython",
    "version": 3
   },
   "file_extension": ".py",
   "mimetype": "text/x-python",
   "name": "python",
   "nbconvert_exporter": "python",
   "pygments_lexer": "ipython3",
   "version": "3.9.10"
  },
  "orig_nbformat": 4
 },
 "nbformat": 4,
 "nbformat_minor": 2
}
