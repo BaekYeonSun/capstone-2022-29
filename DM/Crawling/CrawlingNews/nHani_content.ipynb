{
 "cells": [
  {
   "cell_type": "code",
   "execution_count": 3,
   "metadata": {},
   "outputs": [
    {
     "name": "stdout",
     "output_type": "stream",
     "text": [
      "Collecting newspaper3k\n",
      "  Using cached newspaper3k-0.2.8-py3-none-any.whl (211 kB)\n",
      "Requirement already satisfied: PyYAML>=3.11 in /Users/nayoung/opt/anaconda3/lib/python3.8/site-packages (from newspaper3k) (5.4.1)\n",
      "Requirement already satisfied: Pillow>=3.3.0 in /Users/nayoung/opt/anaconda3/lib/python3.8/site-packages (from newspaper3k) (8.2.0)\n",
      "Collecting cssselect>=0.9.2\n",
      "  Using cached cssselect-1.1.0-py2.py3-none-any.whl (16 kB)\n",
      "Requirement already satisfied: beautifulsoup4>=4.4.1 in /Users/nayoung/opt/anaconda3/lib/python3.8/site-packages (from newspaper3k) (4.9.3)\n",
      "Collecting tldextract>=2.0.1\n",
      "  Using cached tldextract-3.2.0-py3-none-any.whl (87 kB)\n",
      "Requirement already satisfied: lxml>=3.6.0 in /Users/nayoung/opt/anaconda3/lib/python3.8/site-packages (from newspaper3k) (4.6.3)\n",
      "Requirement already satisfied: requests>=2.10.0 in /Users/nayoung/opt/anaconda3/lib/python3.8/site-packages (from newspaper3k) (2.26.0)\n",
      "Collecting feedparser>=5.2.1\n",
      "  Using cached feedparser-6.0.8-py3-none-any.whl (81 kB)\n",
      "Requirement already satisfied: python-dateutil>=2.5.3 in /Users/nayoung/opt/anaconda3/lib/python3.8/site-packages (from newspaper3k) (2.8.1)\n",
      "Collecting jieba3k>=0.35.1\n",
      "  Using cached jieba3k-0.35.1.zip (7.4 MB)\n",
      "  Preparing metadata (setup.py) ... \u001b[?25ldone\n",
      "\u001b[?25hCollecting tinysegmenter==0.3\n",
      "  Using cached tinysegmenter-0.3.tar.gz (16 kB)\n",
      "  Preparing metadata (setup.py) ... \u001b[?25ldone\n",
      "\u001b[?25hRequirement already satisfied: nltk>=3.2.1 in /Users/nayoung/opt/anaconda3/lib/python3.8/site-packages (from newspaper3k) (3.6.1)\n",
      "Collecting feedfinder2>=0.0.4\n",
      "  Using cached feedfinder2-0.0.4.tar.gz (3.3 kB)\n",
      "  Preparing metadata (setup.py) ... \u001b[?25ldone\n",
      "\u001b[?25hRequirement already satisfied: soupsieve>1.2 in /Users/nayoung/opt/anaconda3/lib/python3.8/site-packages (from beautifulsoup4>=4.4.1->newspaper3k) (2.2.1)\n",
      "Requirement already satisfied: six in /Users/nayoung/opt/anaconda3/lib/python3.8/site-packages (from feedfinder2>=0.0.4->newspaper3k) (1.15.0)\n",
      "Collecting sgmllib3k\n",
      "  Using cached sgmllib3k-1.0.0.tar.gz (5.8 kB)\n",
      "  Preparing metadata (setup.py) ... \u001b[?25ldone\n",
      "\u001b[?25hRequirement already satisfied: click in /Users/nayoung/opt/anaconda3/lib/python3.8/site-packages (from nltk>=3.2.1->newspaper3k) (7.1.2)\n",
      "Requirement already satisfied: tqdm in /Users/nayoung/opt/anaconda3/lib/python3.8/site-packages (from nltk>=3.2.1->newspaper3k) (4.59.0)\n",
      "Requirement already satisfied: joblib in /Users/nayoung/opt/anaconda3/lib/python3.8/site-packages (from nltk>=3.2.1->newspaper3k) (1.0.1)\n",
      "Requirement already satisfied: regex in /Users/nayoung/opt/anaconda3/lib/python3.8/site-packages (from nltk>=3.2.1->newspaper3k) (2021.4.4)\n",
      "Requirement already satisfied: charset-normalizer~=2.0.0 in /Users/nayoung/opt/anaconda3/lib/python3.8/site-packages (from requests>=2.10.0->newspaper3k) (2.0.9)\n",
      "Requirement already satisfied: idna<4,>=2.5 in /Users/nayoung/opt/anaconda3/lib/python3.8/site-packages (from requests>=2.10.0->newspaper3k) (2.10)\n",
      "Requirement already satisfied: urllib3<1.27,>=1.21.1 in /Users/nayoung/opt/anaconda3/lib/python3.8/site-packages (from requests>=2.10.0->newspaper3k) (1.26.4)\n",
      "Requirement already satisfied: certifi>=2017.4.17 in /Users/nayoung/opt/anaconda3/lib/python3.8/site-packages (from requests>=2.10.0->newspaper3k) (2020.12.5)\n",
      "Requirement already satisfied: filelock>=3.0.8 in /Users/nayoung/opt/anaconda3/lib/python3.8/site-packages (from tldextract>=2.0.1->newspaper3k) (3.0.12)\n",
      "Collecting requests-file>=1.4\n",
      "  Using cached requests_file-1.5.1-py2.py3-none-any.whl (3.7 kB)\n",
      "Building wheels for collected packages: tinysegmenter, feedfinder2, jieba3k, sgmllib3k\n",
      "  Building wheel for tinysegmenter (setup.py) ... \u001b[?25ldone\n",
      "\u001b[?25h  Created wheel for tinysegmenter: filename=tinysegmenter-0.3-py3-none-any.whl size=13537 sha256=73d643610dc99e097c5005643229e4b31c6a6a836b7fc44dce1a3db1b4dea3ab\n",
      "  Stored in directory: /Users/nayoung/Library/Caches/pip/wheels/99/74/83/8fac1c8d9c648cfabebbbffe97a889f6624817f3aa0bbe6c09\n",
      "  Building wheel for feedfinder2 (setup.py) ... \u001b[?25ldone\n",
      "\u001b[?25h  Created wheel for feedfinder2: filename=feedfinder2-0.0.4-py3-none-any.whl size=3354 sha256=950c88ecf27682ddac7774a8862bc64cad77fc8ba6de06635e2bb00cdea458a8\n",
      "  Stored in directory: /Users/nayoung/Library/Caches/pip/wheels/b6/09/68/a9f15498ac02c23dde29f18745bc6a6f574ba4ab41861a3575\n",
      "  Building wheel for jieba3k (setup.py) ... \u001b[?25ldone\n",
      "\u001b[?25h  Created wheel for jieba3k: filename=jieba3k-0.35.1-py3-none-any.whl size=7398406 sha256=16e916f56777e05da1a3428c844d259f4f3308d64962c89c18a6439443f51c76\n",
      "  Stored in directory: /Users/nayoung/Library/Caches/pip/wheels/1f/7e/0c/54f3b0f5164278677899f2db08f2b07943ce2d024a3c862afb\n",
      "  Building wheel for sgmllib3k (setup.py) ... \u001b[?25ldone\n",
      "\u001b[?25h  Created wheel for sgmllib3k: filename=sgmllib3k-1.0.0-py3-none-any.whl size=6065 sha256=e7b6d743e0b1acafba21be69642936ea7dd02d1e6e68e7f704b5a8d1cf190503\n",
      "  Stored in directory: /Users/nayoung/Library/Caches/pip/wheels/83/63/2f/117884c3b19d46b64d3d61690333aa80c88dc14050e269c546\n",
      "Successfully built tinysegmenter feedfinder2 jieba3k sgmllib3k\n",
      "Installing collected packages: tinysegmenter, sgmllib3k, jieba3k, feedparser, cssselect, requests-file, feedfinder2, tldextract, newspaper3k\n",
      "Successfully installed cssselect-1.1.0 feedfinder2-0.0.4 feedparser-6.0.8 jieba3k-0.35.1 newspaper3k-0.2.8 requests-file-1.5.1 sgmllib3k-1.0.0 tinysegmenter-0.3 tldextract-3.2.0\n",
      "Note: you may need to restart the kernel to use updated packages.\n"
     ]
    }
   ],
   "source": [
    "pip install newspaper3k"
   ]
  },
  {
   "cell_type": "code",
   "execution_count": 1,
   "metadata": {},
   "outputs": [],
   "source": [
    "from newspaper import Article\n",
    "import os\n",
    "import pandas as pd\n",
    "from tqdm import tqdm\n",
    "from multiprocessing.dummy import Pool as ThreadPool"
   ]
  },
  {
   "cell_type": "code",
   "execution_count": 2,
   "metadata": {},
   "outputs": [],
   "source": [
    "df = pd.read_excel(\"한겨레_코로나_url.xlsx\")\n",
    "df.head()\n",
    "urls = df[\"url\"].tolist()\n",
    "news_list = []"
   ]
  },
  {
   "cell_type": "code",
   "execution_count": 3,
   "metadata": {},
   "outputs": [
    {
     "name": "stdout",
     "output_type": "stream",
     "text": [
      "28062\n"
     ]
    }
   ],
   "source": [
    "print(len(urls))"
   ]
  },
  {
   "cell_type": "code",
   "execution_count": 4,
   "metadata": {},
   "outputs": [],
   "source": [
    "def getText(url):\n",
    "    article = Article(url)\n",
    "    article.download()\n",
    "    try:\n",
    "        article.parse()\n",
    "        news_list.append(\n",
    "            {\n",
    "                \"title\": article.title,\n",
    "                \"content\": article.text,\n",
    "                \"date\": article.publish_date,\n",
    "                \"time\": article.publish_date,\n",
    "                \"url\": url,\n",
    "            }\n",
    "        )\n",
    "        return \"\"\n",
    "    except:\n",
    "        return \"\"\n",
    "    \n",
    "pool = ThreadPool(10)"
   ]
  },
  {
   "cell_type": "code",
   "execution_count": 5,
   "metadata": {},
   "outputs": [
    {
     "name": "stderr",
     "output_type": "stream",
     "text": [
      "100%|██████████| 28062/28062 [1:23:17<00:00,  5.61it/s]\n"
     ]
    }
   ],
   "source": [
    "# open the urls in their own threads\n",
    "# and return the results\n",
    "for _ in tqdm(pool.imap_unordered(getText, urls), total=len(urls)):\n",
    "    pass\n",
    "\n",
    "# close the pool and wait for the work to finish\n",
    "pool.close()\n",
    "pool.join()"
   ]
  },
  {
   "cell_type": "code",
   "execution_count": 7,
   "metadata": {},
   "outputs": [
    {
     "name": "stdout",
     "output_type": "stream",
     "text": [
      "엑셀 저장 완료 | 경로 : /Users/nayoung/Documents/Python_ws\\한겨레_코로나_content_plus.xlsx\n",
      "\n"
     ]
    },
    {
     "data": {
      "text/html": [
       "<div>\n",
       "<style scoped>\n",
       "    .dataframe tbody tr th:only-of-type {\n",
       "        vertical-align: middle;\n",
       "    }\n",
       "\n",
       "    .dataframe tbody tr th {\n",
       "        vertical-align: top;\n",
       "    }\n",
       "\n",
       "    .dataframe thead th {\n",
       "        text-align: right;\n",
       "    }\n",
       "</style>\n",
       "<table border=\"1\" class=\"dataframe\">\n",
       "  <thead>\n",
       "    <tr style=\"text-align: right;\">\n",
       "      <th></th>\n",
       "      <th>title</th>\n",
       "      <th>content</th>\n",
       "      <th>date</th>\n",
       "      <th>time</th>\n",
       "      <th>url</th>\n",
       "    </tr>\n",
       "  </thead>\n",
       "  <tbody>\n",
       "    <tr>\n",
       "      <th>0</th>\n",
       "      <td>[사설] 러시아의 우크라이나 침공, 강력히 규탄한다</td>\n",
       "      <td>러시아가 우크라이나를 침공한 24일(현지시각) 우크라이나 대통령궁이 수도 키예프 인...</td>\n",
       "      <td>2022-02-24</td>\n",
       "      <td>19:04:32</td>\n",
       "      <td>https://www.hani.co.kr/arti/opinion/editorial/...</td>\n",
       "    </tr>\n",
       "    <tr>\n",
       "      <th>1</th>\n",
       "      <td>윤석열, 이재명 ‘본진’서 “반헌법 세력 맞서 형사법 집행하듯 타협 않겠다”</td>\n",
       "      <td>경기도청 소재지 수원서 집중 유세\\n\\n“좌파 사회혁명 이론 못 벗어난 운동권 세력...</td>\n",
       "      <td>2022-02-24</td>\n",
       "      <td>17:28:49</td>\n",
       "      <td>https://www.hani.co.kr/arti/politics/politics_...</td>\n",
       "    </tr>\n",
       "    <tr>\n",
       "      <th>2</th>\n",
       "      <td>[사설] 재택치료 중 잇단 사망, 오미크론 의료체계 정비 시급하다</td>\n",
       "      <td>24일 서울 서초구 서울시어린이병원에 마련된 재택치료 소아 전용 의료상담센터에서 의...</td>\n",
       "      <td>2022-02-24</td>\n",
       "      <td>18:42:08</td>\n",
       "      <td>https://www.hani.co.kr/arti/opinion/editorial/...</td>\n",
       "    </tr>\n",
       "    <tr>\n",
       "      <th>3</th>\n",
       "      <td>[육퇴한 밤] 초등 1학년, 한글 떼야 한다? VS 안 떼도 된다?</td>\n",
       "      <td>육아 동지 유튜브 채널\\n\\n이은경 작가·전 초등학교 교사\\n\\n\\n\\n10만 구독...</td>\n",
       "      <td>2022-02-24</td>\n",
       "      <td>19:59:12</td>\n",
       "      <td>https://www.hani.co.kr/arti/society/schooling/...</td>\n",
       "    </tr>\n",
       "    <tr>\n",
       "      <th>4</th>\n",
       "      <td>은행 앱 ‘고령자 모드’ 나온다…용어 쉽게, 화면 간결하게</td>\n",
       "      <td>25일 기업은행부터 서비스 시작\\n\\n아이비케이(IBK)기업은행이 25일부터 제공하...</td>\n",
       "      <td>2022-02-24</td>\n",
       "      <td>16:49:21</td>\n",
       "      <td>https://www.hani.co.kr/arti/economy/finance/10...</td>\n",
       "    </tr>\n",
       "  </tbody>\n",
       "</table>\n",
       "</div>"
      ],
      "text/plain": [
       "                                        title  \\\n",
       "0                [사설] 러시아의 우크라이나 침공, 강력히 규탄한다   \n",
       "1  윤석열, 이재명 ‘본진’서 “반헌법 세력 맞서 형사법 집행하듯 타협 않겠다”   \n",
       "2        [사설] 재택치료 중 잇단 사망, 오미크론 의료체계 정비 시급하다   \n",
       "3       [육퇴한 밤] 초등 1학년, 한글 떼야 한다? VS 안 떼도 된다?   \n",
       "4            은행 앱 ‘고령자 모드’ 나온다…용어 쉽게, 화면 간결하게   \n",
       "\n",
       "                                             content        date      time  \\\n",
       "0  러시아가 우크라이나를 침공한 24일(현지시각) 우크라이나 대통령궁이 수도 키예프 인...  2022-02-24  19:04:32   \n",
       "1  경기도청 소재지 수원서 집중 유세\\n\\n“좌파 사회혁명 이론 못 벗어난 운동권 세력...  2022-02-24  17:28:49   \n",
       "2  24일 서울 서초구 서울시어린이병원에 마련된 재택치료 소아 전용 의료상담센터에서 의...  2022-02-24  18:42:08   \n",
       "3  육아 동지 유튜브 채널\\n\\n이은경 작가·전 초등학교 교사\\n\\n\\n\\n10만 구독...  2022-02-24  19:59:12   \n",
       "4  25일 기업은행부터 서비스 시작\\n\\n아이비케이(IBK)기업은행이 25일부터 제공하...  2022-02-24  16:49:21   \n",
       "\n",
       "                                                 url  \n",
       "0  https://www.hani.co.kr/arti/opinion/editorial/...  \n",
       "1  https://www.hani.co.kr/arti/politics/politics_...  \n",
       "2  https://www.hani.co.kr/arti/opinion/editorial/...  \n",
       "3  https://www.hani.co.kr/arti/society/schooling/...  \n",
       "4  https://www.hani.co.kr/arti/economy/finance/10...  "
      ]
     },
     "execution_count": 7,
     "metadata": {},
     "output_type": "execute_result"
    }
   ],
   "source": [
    "col_name = [\"title\", \"content\", \"date\", \"time\", \"url\"]\n",
    "news_df = pd.DataFrame(news_list, columns=col_name)\n",
    "news_df[\"date\"] = news_df[\"date\"].apply(lambda a: pd.to_datetime(a).date)\n",
    "news_df[\"time\"] = news_df[\"time\"].apply(lambda a: pd.to_datetime(a).time)\n",
    "\n",
    "folder_path = os.getcwd()\n",
    "xlsx_file_name = \"한겨레_코로나_content_plus.xlsx\"\n",
    "# csv_file_name = \"한겨레_코로나_content_plus.csv\"\n",
    "\n",
    "news_df.to_excel(xlsx_file_name)\n",
    "# news_df.to_csv(csv_file_name)\n",
    "\n",
    "print(\"엑셀 저장 완료 | 경로 : {}\\\\{}\\n\".format(folder_path, xlsx_file_name))\n",
    "# print(\"엑셀 저장 완료 | 경로 : {}\\\\{}\\n\".format(folder_path, csv_file_name))\n",
    "news_df.head()"
   ]
  }
 ],
 "metadata": {
  "interpreter": {
   "hash": "b0fa6594d8f4cbf19f97940f81e996739fb7646882a419484c72d19e05852a7e"
  },
  "kernelspec": {
   "display_name": "Python 3.9.7 64-bit",
   "language": "python",
   "name": "python3"
  },
  "language_info": {
   "codemirror_mode": {
    "name": "ipython",
    "version": 3
   },
   "file_extension": ".py",
   "mimetype": "text/x-python",
   "name": "python",
   "nbconvert_exporter": "python",
   "pygments_lexer": "ipython3",
   "version": "3.8.8"
  },
  "orig_nbformat": 4
 },
 "nbformat": 4,
 "nbformat_minor": 2
}
