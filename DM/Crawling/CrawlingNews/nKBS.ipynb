{
 "cells": [
  {
   "cell_type": "markdown",
   "metadata": {},
   "source": [
    "## KBS 뉴스 제목, 작성날짜, url 가져오기"
   ]
  },
  {
   "cell_type": "markdown",
   "metadata": {},
   "source": [
    "### selenium"
   ]
  },
  {
   "cell_type": "code",
   "execution_count": null,
   "metadata": {},
   "outputs": [],
   "source": [
    "import sys, os\n",
    "from selenium import webdriver\n",
    "from pandas import DataFrame\n",
    "from bs4 import BeautifulSoup\n",
    "from datetime import datetime\n",
    "import time\n",
    "from tqdm import tqdm"
   ]
  },
  {
   "cell_type": "code",
   "execution_count": null,
   "metadata": {},
   "outputs": [],
   "source": [
    "date = str(datetime.now())\n",
    "date = date[:date.rfind(':')].replace(' ', '_')\n",
    "date = date.replace(':','시') + '분'\n",
    "\n",
    "sleep_sec = 0.5"
   ]
  },
  {
   "cell_type": "code",
   "execution_count": null,
   "metadata": {},
   "outputs": [],
   "source": [
    "options = webdriver.ChromeOptions()\n",
    "driver = webdriver.Chrome(executable_path=\"/opt/homebrew/bin/chromedriver\", options=options)\n",
    "driver.execute_script('return navigator.userAgent')"
   ]
  },
  {
   "cell_type": "code",
   "execution_count": null,
   "metadata": {},
   "outputs": [],
   "source": [
    "query = input('검색할 키워드  : ')\n",
    "\n",
    "driver = webdriver.Chrome(executable_path=\"/opt/homebrew/bin/chromedriver\", options=options)\n",
    "driver.get('https://news.kbs.co.kr/search/search.do?query={}#1'.format(query))\n",
    "driver.implicitly_wait(sleep_sec)\n",
    "\n",
    "html = driver.page_source\n",
    "soup = BeautifulSoup(html)\n",
    "\n",
    "table = soup.find('div', {'class' : 'section result'})\n",
    "news_num = table.find('p').find('em').text.replace(\",\", \"\")\n",
    "print(int(news_num))"
   ]
  },
  {
   "cell_type": "code",
   "execution_count": null,
   "metadata": {},
   "outputs": [],
   "source": [
    "news_dict = {}\n",
    "idx = 0\n",
    "\n",
    "options = webdriver.ChromeOptions()\n",
    "options.add_argument(\"user-agent=Mozilla/5.0 (Macintosh; Intel Mac OS X 10_15_7) AppleWebKit/537.36 (KHTML, like Gecko) Chrome/99.0.4844.84 Safari/537.36\")\n",
    "options.add_argument(\"--blink-settings=imagesEnabled=false\")\n",
    "\n",
    "driver = webdriver.Chrome(executable_path=\"/opt/homebrew/bin/chromedriver\", options=options)\n",
    "\n",
    "for i in tqdm(range(1, int(news_num)//10 + 1)): # 페이지 수\n",
    "    driver.get('https://news.kbs.co.kr/search/search.do?query={}#{}'.format(query, i))\n",
    "    driver.refresh()\n",
    "    soup = BeautifulSoup(driver.page_source)\n",
    "\n",
    "    table = soup.find('div', {'class' : 'section result'})\n",
    "\n",
    "    table = driver.find_element_by_xpath('//ul[contains(@id, \"searchList\")]')\n",
    "    li_list = table.find_elements_by_xpath('./li')\n",
    "\n",
    "    for li in li_list:\n",
    "        news_url = li.find_element_by_xpath('./a').get_attribute('href')\n",
    "        news_title = li.find_element_by_xpath('./a/*/em[@class=\"tit\"]').text\n",
    "        news_time = li.find_element_by_xpath('./a/*/span[@class=\"time\"]').text\n",
    "        \n",
    "        news_dict[idx] = {'title' : news_title,\n",
    "                        'url' : news_url,\n",
    "                        'time' : news_time\n",
    "                        }\n",
    "        idx += 1\n",
    "\n",
    "driver.close()"
   ]
  },
  {
   "cell_type": "code",
   "execution_count": null,
   "metadata": {},
   "outputs": [],
   "source": [
    "news_df = DataFrame(news_dict).T\n",
    "\n",
    "folder_path = os.getcwd()\n",
    "cvs_file_name = 'KBS_{}_{}개_{}.csv'.format(query, news_num, date)\n",
    "\n",
    "news_df.to_csv(cvs_file_name)\n",
    "\n",
    "print('데이터 저장 완료 | 경로 : {}\\\\{}\\n'.format(folder_path, cvs_file_name))\n",
    "\n",
    "news_df.head()"
   ]
  },
  {
   "cell_type": "markdown",
   "metadata": {},
   "source": [
    "## KBS 뉴스 내용 가져오기"
   ]
  },
  {
   "cell_type": "markdown",
   "metadata": {},
   "source": [
    "### selenium"
   ]
  },
  {
   "cell_type": "code",
   "execution_count": null,
   "metadata": {},
   "outputs": [],
   "source": [
    "import sys, os\n",
    "from selenium import webdriver\n",
    "from selenium.webdriver.common.by import By\n",
    "from pandas import DataFrame\n",
    "from bs4 import BeautifulSoup\n",
    "import time\n",
    "import pandas as pd"
   ]
  },
  {
   "cell_type": "code",
   "execution_count": null,
   "metadata": {},
   "outputs": [],
   "source": [
    "news_df = pd.read_excel(\"/Users/yeonsun/Documents/capstone-2022-29/crawling/한국경제_코로나_93542개_2022-03-28_03시46분_기사내용미포함.xlsx\")\n",
    "\n",
    "sleep_sec = 0.5"
   ]
  },
  {
   "cell_type": "code",
   "execution_count": null,
   "metadata": {},
   "outputs": [],
   "source": [
    "options = webdriver.ChromeOptions()\n",
    "driver = webdriver.Chrome(executable_path=\"/opt/homebrew/bin/chromedriver\", options=options)\n",
    "driver.execute_script('return navigator.userAgent')"
   ]
  },
  {
   "cell_type": "code",
   "execution_count": null,
   "metadata": {},
   "outputs": [],
   "source": [
    "contents = []\n",
    "\n",
    "options = webdriver.ChromeOptions()\n",
    "options.add_argument(\"user-agent=Mozilla/5.0 (Macintosh; Intel Mac OS X 10_15_7) AppleWebKit/537.36 (KHTML, like Gecko) Chrome/99.0.4844.84 Safari/537.36\")\n",
    "options.add_argument(\"--blink-settings=imagesEnabled=false\")\n",
    "\n",
    "driver = webdriver.Chrome(executable_path=\"/opt/homebrew/bin/chromedriver\", options=options)\n",
    "\n",
    "for idx in tqdm(range(0, news_df.shape[0] + 1)):\n",
    "    article_url = news_df['url'][idx]\n",
    "    driver.get(article_url)\n",
    "    time.sleep(sleep_sec)\n",
    "\n",
    "    content = driver.find_element(by=By.XPATH, value='//*[@id=\"cont_newstext\"]').text\n",
    "    contents.append(content)\n",
    "\n",
    "driver.close()"
   ]
  },
  {
   "cell_type": "code",
   "execution_count": null,
   "metadata": {},
   "outputs": [],
   "source": [
    "idx = 0\n",
    "for i in range(0, news_df.shape[0] + 1):\n",
    "    news_df['content'][i] = contents[idx]\n",
    "    idx += 1"
   ]
  },
  {
   "cell_type": "code",
   "execution_count": null,
   "metadata": {},
   "outputs": [],
   "source": [
    "folder_path = os.getcwd()\n",
    "cvs_file_name = 'KBS_{}_{}개_{}.csv'.format(query, news_num, date)\n",
    "\n",
    "news_df.to_csv(cvs_file_name)\n",
    "\n",
    "print('데이터 저장 완료 | 경로 : {}\\\\{}\\n'.format(folder_path, cvs_file_name))\n",
    "\n",
    "news_df.head()"
   ]
  }
 ],
 "metadata": {
  "interpreter": {
   "hash": "31f2aee4e71d21fbe5cf8b01ff0e069b9275f58929596ceb00d14d90e3e16cd6"
  },
  "kernelspec": {
   "display_name": "Python 3.8.9 64-bit",
   "language": "python",
   "name": "python3"
  },
  "language_info": {
   "codemirror_mode": {
    "name": "ipython",
    "version": 3
   },
   "file_extension": ".py",
   "mimetype": "text/x-python",
   "name": "python",
   "nbconvert_exporter": "python",
   "pygments_lexer": "ipython3",
   "version": "3.8.9"
  },
  "orig_nbformat": 4
 },
 "nbformat": 4,
 "nbformat_minor": 2
}
